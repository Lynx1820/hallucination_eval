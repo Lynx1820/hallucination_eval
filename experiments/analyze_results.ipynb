{
 "cells": [
  {
   "cell_type": "markdown",
   "id": "797630d0-9d40-4b38-87e6-dda7bb7a6876",
   "metadata": {},
   "source": [
    "# Hallucination Detection System Pipeline\n",
    "\n",
    "This notebook demonstrates the core functionality of our mechanistic interpretability-based hallucination detection system for financial statements.\n",
    "\n",
    "## Pipeline Overview:\n",
    "1. **Data Preparation**: Load and preprocess financial Q&A data\n",
    "2. **Steering Vector Extraction**: Extract vectors that differentiate factual vs speculative claims\n",
    "3. **Hidden State Analysis**: Analyze model internal representations \n",
    "4. **Confidence Scoring**: Build confidence scores for financial statements\n",
    "5. **Evaluation**: Test system performance on sample data"
   ]
  },
  {
   "cell_type": "code",
   "execution_count": 12,
   "id": "xjcgle830p",
   "metadata": {},
   "outputs": [
    {
     "name": "stdout",
     "output_type": "stream",
     "text": [
      "The autoreload extension is already loaded. To reload it, use:\n",
      "  %reload_ext autoreload\n",
      "✓ Core libraries imported successfully\n"
     ]
    }
   ],
   "source": [
    "# Core imports for the hallucination detection pipeline\n",
    "import numpy as np\n",
    "import torch\n",
    "import torch.nn.functional as F\n",
    "from transformers import AutoTokenizer, AutoModel\n",
    "import matplotlib.pyplot as plt\n",
    "import seaborn as sns\n",
    "from typing import List, Dict, Tuple, Optional\n",
    "import pandas as pd\n",
    "from sklearn.metrics.pairwise import cosine_similarity\n",
    "from sklearn.decomposition import PCA\n",
    "import warnings\n",
    "%load_ext autoreload\n",
    "%autoreload 2\n",
    "warnings.filterwarnings('ignore')\n",
    "\n",
    "# Set random seeds for reproducibility\n",
    "np.random.seed(42)\n",
    "torch.manual_seed(42)\n",
    "\n",
    "print(\"✓ Core libraries imported successfully\")"
   ]
  },
  {
   "cell_type": "markdown",
   "id": "bzl49par7ef",
   "metadata": {},
   "source": [
    "## 1. Data Preparation and Analysis"
   ]
  },
  {
   "cell_type": "code",
   "execution_count": 13,
   "id": "ynu5dxg80z8",
   "metadata": {},
   "outputs": [],
   "source": [
    "# Import existing modules from the core package\n",
    "import sys\n",
    "import os\n",
    "from nnsight import LanguageModel\n",
    "sys.path.append(os.path.join(os.path.dirname(os.getcwd()), 'core'))\n",
    "\n",
    "from steering_vector_extractor import SteeringVectorExtractor\n",
    "from hallucination_scorer import HallucinationScorer\n",
    "from main_evaluation import create_steering_data, load_tatqa_samples_split\n",
    "from auth_utils import get_cache_dir, setup_huggingface_auth"
   ]
  },
  {
   "cell_type": "markdown",
   "id": "frqdirg422h",
   "metadata": {},
   "source": [
    "## 3. Initialize Components and Extract Steering Vectors"
   ]
  },
  {
   "cell_type": "code",
   "execution_count": 14,
   "id": "l181k5rkogf",
   "metadata": {},
   "outputs": [
    {
     "name": "stderr",
     "output_type": "stream",
     "text": [
      "Note: Environment variable`HF_TOKEN` is set and is the current active token independently from the token you've just configured.\n"
     ]
    },
    {
     "name": "stdout",
     "output_type": "stream",
     "text": [
      "✓ HuggingFace authentication successful\n"
     ]
    },
    {
     "name": "stderr",
     "output_type": "stream",
     "text": [
      "Loading checkpoint shards: 100%|██████████| 2/2 [00:00<00:00,  2.76it/s]\n"
     ]
    }
   ],
   "source": [
    "# Initialize the steering vector extractor with model for demonstration\n",
    "setup_huggingface_auth()\n",
    "model = LanguageModel('google/gemma-2-2b-it', cache_dir=get_cache_dir(),torch_dtype=torch.bfloat16, device_map=\"cuda\",dispatch=True)\n",
    "extractor = SteeringVectorExtractor(model=model)"
   ]
  },
  {
   "cell_type": "code",
   "execution_count": 15,
   "id": "k6xj95mt84",
   "metadata": {},
   "outputs": [
    {
     "name": "stderr",
     "output_type": "stream",
     "text": [
      "Asking to truncate to max_length but no maximum length is provided and the model has no predefined maximum length. Default to no truncation.\n"
     ]
    },
    {
     "name": "stdout",
     "output_type": "stream",
     "text": [
      "Loaded and split TAT-QA data: 50 validation, 50 test samples\n",
      "Extracting activations for factual texts...\n",
      "Extracting activations for speculative texts...\n"
     ]
    }
   ],
   "source": [
    "N_SAMPLES = 50\n",
    "# Extract steering vectors using the sample data\n",
    "factual_statements, speculative_statements = create_steering_data()\n",
    "tat_val, tat_test  = load_tatqa_samples_split(N_SAMPLES)\n",
    "steering_vectors = extractor.compute_mean_difference_vectors(\n",
    "    factual_statements, \n",
    "    speculative_statements\n",
    ")"
   ]
  },
  {
   "cell_type": "markdown",
   "id": "0fl5y0kq43eo",
   "metadata": {},
   "source": [
    "## 4. Hidden State Analysis and Context Effects"
   ]
  },
  {
   "cell_type": "code",
   "execution_count": 16,
   "id": "fc33e9f8-8265-4dd7-bce9-cd338a6efc78",
   "metadata": {},
   "outputs": [
    {
     "name": "stdout",
     "output_type": "stream",
     "text": [
      "Initializing hallucination scorer...\n"
     ]
    }
   ],
   "source": [
    "# Initialize the hallucination scorer for hidden state analysis\n",
    "print(\"Initializing hallucination scorer...\")\n",
    "\n",
    "scorer = HallucinationScorer(model=model)\n"
   ]
  },
  {
   "cell_type": "code",
   "execution_count": 6,
   "id": "4df5fd32-be70-4b62-aa80-c2ecad6d62f8",
   "metadata": {
    "scrolled": true
   },
   "outputs": [
    {
     "name": "stdout",
     "output_type": "stream",
     "text": [
      "Calibrating threshold on 50 validation samples on layer 0.\n",
      "TAT-QA Calibration Results:\n",
      "  ROC AUC: 0.528\n",
      "  Optimal threshold: 1.304\n",
      "  TPR: 0.278, FPR: 0.094\n",
      "  Hallucination rate: 0.360\n",
      "  Mean correct projection: -0.655\n",
      "  Mean halluc projection: -0.307\n",
      "Calibrating threshold on 50 validation samples on layer 1.\n",
      "TAT-QA Calibration Results:\n",
      "  ROC AUC: 0.516\n",
      "  Optimal threshold: 1.455\n",
      "  TPR: 0.389, FPR: 0.156\n",
      "  Hallucination rate: 0.360\n",
      "  Mean correct projection: -0.354\n",
      "  Mean halluc projection: -0.234\n",
      "Calibrating threshold on 50 validation samples on layer 2.\n",
      "TAT-QA Calibration Results:\n",
      "  ROC AUC: 0.540\n",
      "  Optimal threshold: 6.657\n",
      "  TPR: 0.444, FPR: 0.219\n",
      "  Hallucination rate: 0.360\n",
      "  Mean correct projection: 4.635\n",
      "  Mean halluc projection: 4.382\n",
      "Calibrating threshold on 50 validation samples on layer 3.\n",
      "TAT-QA Calibration Results:\n",
      "  ROC AUC: 0.582\n",
      "  Optimal threshold: 6.381\n",
      "  TPR: 0.444, FPR: 0.188\n",
      "  Hallucination rate: 0.360\n",
      "  Mean correct projection: 3.246\n",
      "  Mean halluc projection: 3.729\n",
      "Calibrating threshold on 50 validation samples on layer 4.\n",
      "TAT-QA Calibration Results:\n",
      "  ROC AUC: 0.527\n",
      "  Optimal threshold: 4.660\n",
      "  TPR: 0.278, FPR: 0.000\n",
      "  Hallucination rate: 0.360\n",
      "  Mean correct projection: -1.092\n",
      "  Mean halluc projection: -1.268\n",
      "Calibrating threshold on 50 validation samples on layer 5.\n",
      "TAT-QA Calibration Results:\n",
      "  ROC AUC: 0.516\n",
      "  Optimal threshold: 14.054\n",
      "  TPR: 0.222, FPR: 0.031\n",
      "  Hallucination rate: 0.360\n",
      "  Mean correct projection: 7.570\n",
      "  Mean halluc projection: 7.416\n",
      "Calibrating threshold on 50 validation samples on layer 6.\n",
      "TAT-QA Calibration Results:\n",
      "  ROC AUC: 0.540\n",
      "  Optimal threshold: 8.835\n",
      "  TPR: 0.389, FPR: 0.094\n",
      "  Hallucination rate: 0.360\n",
      "  Mean correct projection: 4.553\n",
      "  Mean halluc projection: 4.709\n",
      "Calibrating threshold on 50 validation samples on layer 7.\n",
      "TAT-QA Calibration Results:\n",
      "  ROC AUC: 0.518\n",
      "  Optimal threshold: 11.412\n",
      "  TPR: 0.333, FPR: 0.125\n",
      "  Hallucination rate: 0.360\n",
      "  Mean correct projection: 7.486\n",
      "  Mean halluc projection: 7.557\n",
      "Calibrating threshold on 50 validation samples on layer 8.\n",
      "TAT-QA Calibration Results:\n",
      "  ROC AUC: 0.590\n",
      "  Optimal threshold: 4.844\n",
      "  TPR: 0.444, FPR: 0.062\n",
      "  Hallucination rate: 0.360\n",
      "  Mean correct projection: -1.732\n",
      "  Mean halluc projection: -0.778\n",
      "Calibrating threshold on 50 validation samples on layer 9.\n",
      "TAT-QA Calibration Results:\n",
      "  ROC AUC: 0.517\n",
      "  Optimal threshold: 10.800\n",
      "  TPR: 0.278, FPR: 0.125\n",
      "  Hallucination rate: 0.360\n",
      "  Mean correct projection: 4.224\n",
      "  Mean halluc projection: 3.686\n",
      "Calibrating threshold on 50 validation samples on layer 10.\n",
      "TAT-QA Calibration Results:\n",
      "  ROC AUC: 0.530\n",
      "  Optimal threshold: -25.217\n",
      "  TPR: 1.000, FPR: 0.812\n",
      "  Hallucination rate: 0.360\n",
      "  Mean correct projection: -6.816\n",
      "  Mean halluc projection: -7.034\n",
      "Calibrating threshold on 50 validation samples on layer 11.\n",
      "TAT-QA Calibration Results:\n",
      "  ROC AUC: 0.559\n",
      "  Optimal threshold: 17.121\n",
      "  TPR: 0.333, FPR: 0.062\n",
      "  Hallucination rate: 0.360\n",
      "  Mean correct projection: 9.938\n",
      "  Mean halluc projection: 10.990\n",
      "Calibrating threshold on 50 validation samples on layer 12.\n",
      "TAT-QA Calibration Results:\n",
      "  ROC AUC: 0.618\n",
      "  Optimal threshold: 24.734\n",
      "  TPR: 0.444, FPR: 0.094\n",
      "  Hallucination rate: 0.360\n",
      "  Mean correct projection: 19.099\n",
      "  Mean halluc projection: 21.883\n",
      "Calibrating threshold on 50 validation samples on layer 13.\n",
      "TAT-QA Calibration Results:\n",
      "  ROC AUC: 0.658\n",
      "  Optimal threshold: 8.241\n",
      "  TPR: 0.556, FPR: 0.062\n",
      "  Hallucination rate: 0.360\n",
      "  Mean correct projection: -1.832\n",
      "  Mean halluc projection: 2.375\n",
      "Calibrating threshold on 50 validation samples on layer 14.\n",
      "TAT-QA Calibration Results:\n",
      "  ROC AUC: 0.649\n",
      "  Optimal threshold: 5.077\n",
      "  TPR: 0.556, FPR: 0.094\n",
      "  Hallucination rate: 0.360\n",
      "  Mean correct projection: -4.313\n",
      "  Mean halluc projection: -0.217\n",
      "Calibrating threshold on 50 validation samples on layer 15.\n",
      "TAT-QA Calibration Results:\n",
      "  ROC AUC: 0.651\n",
      "  Optimal threshold: 7.879\n",
      "  TPR: 0.444, FPR: 0.031\n",
      "  Hallucination rate: 0.360\n",
      "  Mean correct projection: -3.044\n",
      "  Mean halluc projection: 0.576\n",
      "Calibrating threshold on 50 validation samples on layer 16.\n",
      "TAT-QA Calibration Results:\n",
      "  ROC AUC: 0.668\n",
      "  Optimal threshold: 15.217\n",
      "  TPR: 0.500, FPR: 0.062\n",
      "  Hallucination rate: 0.360\n",
      "  Mean correct projection: 6.105\n",
      "  Mean halluc projection: 10.420\n",
      "Calibrating threshold on 50 validation samples on layer 17.\n",
      "TAT-QA Calibration Results:\n",
      "  ROC AUC: 0.696\n",
      "  Optimal threshold: 15.441\n",
      "  TPR: 0.556, FPR: 0.094\n",
      "  Hallucination rate: 0.360\n",
      "  Mean correct projection: 5.721\n",
      "  Mean halluc projection: 11.263\n",
      "Calibrating threshold on 50 validation samples on layer 18.\n",
      "TAT-QA Calibration Results:\n",
      "  ROC AUC: 0.615\n",
      "  Optimal threshold: 30.222\n",
      "  TPR: 0.444, FPR: 0.188\n",
      "  Hallucination rate: 0.360\n",
      "  Mean correct projection: 22.985\n",
      "  Mean halluc projection: 26.263\n",
      "Calibrating threshold on 50 validation samples on layer 19.\n",
      "TAT-QA Calibration Results:\n",
      "  ROC AUC: 0.602\n",
      "  Optimal threshold: 17.209\n",
      "  TPR: 0.389, FPR: 0.156\n",
      "  Hallucination rate: 0.360\n",
      "  Mean correct projection: 9.416\n",
      "  Mean halluc projection: 12.304\n",
      "Calibrating threshold on 50 validation samples on layer 20.\n",
      "TAT-QA Calibration Results:\n",
      "  ROC AUC: 0.593\n",
      "  Optimal threshold: 38.720\n",
      "  TPR: 0.944, FPR: 0.719\n",
      "  Hallucination rate: 0.360\n",
      "  Mean correct projection: 47.305\n",
      "  Mean halluc projection: 51.040\n",
      "Calibrating threshold on 50 validation samples on layer 21.\n",
      "TAT-QA Calibration Results:\n",
      "  ROC AUC: 0.636\n",
      "  Optimal threshold: 98.587\n",
      "  TPR: 0.556, FPR: 0.281\n",
      "  Hallucination rate: 0.360\n",
      "  Mean correct projection: 90.851\n",
      "  Mean halluc projection: 97.059\n",
      "Calibrating threshold on 50 validation samples on layer 22.\n",
      "TAT-QA Calibration Results:\n",
      "  ROC AUC: 0.659\n",
      "  Optimal threshold: 82.500\n",
      "  TPR: 0.500, FPR: 0.188\n",
      "  Hallucination rate: 0.360\n",
      "  Mean correct projection: 74.141\n",
      "  Mean halluc projection: 80.319\n",
      "Calibrating threshold on 50 validation samples on layer 23.\n",
      "TAT-QA Calibration Results:\n",
      "  ROC AUC: 0.637\n",
      "  Optimal threshold: 87.603\n",
      "  TPR: 0.444, FPR: 0.125\n",
      "  Hallucination rate: 0.360\n",
      "  Mean correct projection: 76.929\n",
      "  Mean halluc projection: 82.660\n",
      "Calibrating threshold on 50 validation samples on layer 24.\n",
      "TAT-QA Calibration Results:\n",
      "  ROC AUC: 0.649\n",
      "  Optimal threshold: 82.341\n",
      "  TPR: 0.500, FPR: 0.125\n",
      "  Hallucination rate: 0.360\n",
      "  Mean correct projection: 67.610\n",
      "  Mean halluc projection: 77.686\n",
      "Calibrating threshold on 50 validation samples on layer 25.\n",
      "TAT-QA Calibration Results:\n",
      "  ROC AUC: 0.603\n",
      "  Optimal threshold: -385.692\n",
      "  TPR: 0.944, FPR: 0.719\n",
      "  Hallucination rate: 0.360\n",
      "  Mean correct projection: -353.057\n",
      "  Mean halluc projection: -306.776\n"
     ]
    }
   ],
   "source": [
    "calibration_results = {}\n",
    "for layer in range(len(extractor.model.model.layers)): \n",
    "    calibration_results[layer] = scorer.calibrate_threshold_on_tatqa(\n",
    "        tat_val,\n",
    "        steering_vectors=steering_vectors, layer=layer)"
   ]
  },
  {
   "cell_type": "code",
   "execution_count": null,
   "id": "82f424a5-56c5-4fed-9b47-a92887f8834f",
   "metadata": {},
   "outputs": [],
   "source": []
  },
  {
   "cell_type": "markdown",
   "id": "d4f0a692-9119-42c4-ae62-ad8adb84fea3",
   "metadata": {},
   "source": [
    "## The most effective layers for hallucination detection occur between layers 12 and 18.\n",
    "Interestingly, the magnitude of the steering vector does not correlate well with detection performance. "
   ]
  },
  {
   "cell_type": "code",
   "execution_count": 8,
   "id": "77d8f96d-1b63-4e24-8391-f3a28963d0fd",
   "metadata": {},
   "outputs": [
    {
     "data": {
      "image/png": "[encoded data removed]",
      "text/plain": [
       "<Figure size 1000x500 with 2 Axes>"
      ]
     },
     "metadata": {},
     "output_type": "display_data"
    }
   ],
   "source": [
    "# Prepare correct axes: layer on x-axis, roc_auc and magnitude as two y-axis series\n",
    "\n",
    "# Reuse layer IDs from the dictionaries\n",
    "layers = sorted(calibration_results.keys())\n",
    "roc_aucs = [calibration_results[l]['roc_auc'] for l in layers]\n",
    "magnitudes = [steering_vectors[l].vector.norm().int().cpu() for l in layers]\n",
    "\n",
    "# Create the plot with dual y-axes\n",
    "fig, ax1 = plt.subplots(figsize=(10, 5))\n",
    "\n",
    "color_roc = 'tab:blue'\n",
    "ax1.set_xlabel(\"Layer\")\n",
    "ax1.set_ylabel(\"ROC AUC\", color=color_roc)\n",
    "ax1.plot(layers, roc_aucs, color=color_roc, marker='o', label='ROC AUC')\n",
    "ax1.tick_params(axis='y', labelcolor=color_roc)\n",
    "\n",
    "# Create a second y-axis for the magnitudes\n",
    "ax2 = ax1.twinx()\n",
    "color_mag = 'tab:red'\n",
    "ax2.set_ylabel(\"Steering Vector Magnitude\", color=color_mag)\n",
    "ax2.plot(layers, magnitudes, color=color_mag, marker='x', linestyle='--', label='Magnitude')\n",
    "ax2.tick_params(axis='y', labelcolor=color_mag)\n",
    "\n",
    "plt.title(\"ROC AUC and Steering Vector Magnitude vs Layer\")\n",
    "fig.tight_layout()\n",
    "plt.grid(True)\n",
    "plt.show()\n"
   ]
  },
  {
   "cell_type": "code",
   "execution_count": 17,
   "id": "148b9c59-5fe8-4492-957f-5a80f5183d6a",
   "metadata": {},
   "outputs": [
    {
     "name": "stdout",
     "output_type": "stream",
     "text": [
      "Calibrating threshold on 50 validation samples on layer 17.\n",
      "TAT-QA Calibration Results:\n",
      "  ROC AUC: 0.639\n",
      "  Optimal threshold: 15.776\n",
      "  TPR: 0.438, FPR: 0.059\n",
      "  Hallucination rate: 0.320\n",
      "  Mean correct projection: 6.589\n",
      "  Mean halluc projection: 10.112\n"
     ]
    }
   ],
   "source": [
    "layer = 17\n",
    "calibration_results = scorer.calibrate_threshold_on_tatqa(\n",
    "        tat_val,\n",
    "        steering_vectors=steering_vectors, layer=layer)"
   ]
  },
  {
   "cell_type": "markdown",
   "id": "vs9e9rgvhlk",
   "metadata": {},
   "source": [
    "## 5. Confidence Scoring System for Financial Statements"
   ]
  },
  {
   "cell_type": "code",
   "execution_count": 18,
   "id": "3834e0f9-6c19-4e2a-a0d2-f9becf1039de",
   "metadata": {},
   "outputs": [
    {
     "name": "stdout",
     "output_type": "stream",
     "text": [
      "Evaluating hallucination detection on 50 test samples...\n",
      "Using layer 17 for hallucination detection evaluation.\n",
      "\n",
      "Hallucination Detection Results:\n",
      "Model Accuracy: 0.660\n",
      "Hallucination Rate: 0.340\n",
      "Detection Accuracy: 0.680\n",
      "Detection Precision: 0.545\n",
      "Detection Recall: 0.353\n"
     ]
    }
   ],
   "source": [
    "results = scorer.evaluate_hallucination_detection_on_tatqa(\n",
    "    tat_test, \n",
    "    steering_vectors=steering_vectors, \n",
    "    calibrated_threshold=calibration_results['optimal_threshold'], layer=layer\n",
    ")"
   ]
  },
  {
   "cell_type": "code",
   "execution_count": null,
   "id": "a371f65f-f5cb-4087-9371-65b52cf93da6",
   "metadata": {},
   "outputs": [],
   "source": []
  }
 ],
 "metadata": {
  "kernelspec": {
   "display_name": "Python 3 (ipykernel)",
   "language": "python",
   "name": "python3"
  },
  "language_info": {
   "codemirror_mode": {
    "name": "ipython",
    "version": 3
   },
   "file_extension": ".py",
   "mimetype": "text/x-python",
   "name": "python",
   "nbconvert_exporter": "python",
   "pygments_lexer": "ipython3",
   "version": "3.10.13"
  }
 },
 "nbformat": 4,
 "nbformat_minor": 5
}
